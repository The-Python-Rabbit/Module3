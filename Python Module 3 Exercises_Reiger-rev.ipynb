{
 "cells": [
  {
   "cell_type": "markdown",
   "metadata": {},
   "source": [
    "Exercise 1. Ask for a color and store that answer. \n",
    "If the answer is grey then print out you found Victor's favorite color.\n",
    "Otherwise print out the color is not Victor's favorite color."
   ]
  },
  {
   "cell_type": "code",
   "execution_count": 6,
   "metadata": {},
   "outputs": [
    {
     "name": "stdout",
     "output_type": "stream",
     "text": [
      "Enter a color: Grey\n",
      "You found Victor's favorite color!\n"
     ]
    }
   ],
   "source": [
    "color = input(\"Enter a color: \")\n",
    "if color.lower() == \"grey\":\n",
    "    print (\"You found Victor's favorite color!\")\n",
    "else:\n",
    "    print (f\"{color} is not Victor's favorite color\")"
   ]
  },
  {
   "cell_type": "markdown",
   "metadata": {},
   "source": [
    "Exercise 2. Modify code from above exercise 1 and add in more conditions for other colors such as red, green, blue and then, write statements for them. "
   ]
  },
  {
   "cell_type": "code",
   "execution_count": 10,
   "metadata": {},
   "outputs": [
    {
     "name": "stdout",
     "output_type": "stream",
     "text": [
      "Enter a color: blue\n",
      "You entered blue, which Victor only likes when his girlfriend is around.\n"
     ]
    }
   ],
   "source": [
    "color = input(\"Enter a color: \")\n",
    "if color.lower() == \"grey\":\n",
    "    print (\"You found Victor's favorite color!\")\n",
    "elif color.lower() == \"red\":\n",
    "    print (f\"You entered {color}, which Victor only likes on Wednesdays.\")\n",
    "elif color.lower() == \"green\":\n",
    "    print (f\"You entered {color}, which Victor likes sometimes.\")\n",
    "elif color.lower() == \"blue\":\n",
    "    print (f\"You entered {color}, which Victor only likes when his girlfriend is around.\")\n",
    "else:\n",
    "    print (f\"{color} is not Victor's favorite color\")"
   ]
  },
  {
   "cell_type": "code",
   "execution_count": null,
   "metadata": {},
   "outputs": [],
   "source": []
  },
  {
   "cell_type": "markdown",
   "metadata": {},
   "source": [
    "Exercise 3. Ask for an exam score and store that number. If the number is greater than 100, then print out 'You cannot have an exam score higher than 100'. If the number doesn't exceeed 100 but is greater than or equal to 75, then print out 'You did great on your exam!'. Otherwise if they scored lower than 75, then print out 'You need to study harder'."
   ]
  },
  {
   "cell_type": "code",
   "execution_count": 17,
   "metadata": {},
   "outputs": [
    {
     "name": "stdout",
     "output_type": "stream",
     "text": [
      "Enter an exam score between 0 and 100, inclusive: 74\n",
      "You need to study harder.\n"
     ]
    }
   ],
   "source": [
    "score = int(input(\"Enter an exam score between 0 and 100, inclusive: \"))\n",
    "if score > 100:\n",
    "    print (\"You cannot have an exam score higher than 100.\")\n",
    "elif score <= 100 and score >= 75:\n",
    "     print (\"You did great on your exam!\")\n",
    "else:\n",
    "    print (\"You need to study harder.\")"
   ]
  },
  {
   "cell_type": "markdown",
   "metadata": {},
   "source": [
    "Exercise 4. \n",
    "Define two functions: \n",
    "    - a function that takes 3 arguements and returns the sum of three arguements\n",
    "    - a function that takes 2 arguements and returns the result of 1st arguement multiplied by 2nd arguement\n",
    "\n",
    "Then tell the user to choose option 1 to add three numbers or option 2 to multiply two numbers.\n",
    "If the user choose option 1 then call the addition function, otherwise if they choose option 2 then call the mulitplication function.  If the user choose anything other than option 1 or 2, then generate a friendly error messsage"
   ]
  },
  {
   "cell_type": "code",
   "execution_count": 26,
   "metadata": {},
   "outputs": [
    {
     "name": "stdout",
     "output_type": "stream",
     "text": [
      "Choose Option 1 to add three numbers or Option 2 to multiply 2 numbers: 2\n",
      "Enter first number: 100\n",
      "Enter second number:2.5\n",
      "The product of the two numbers is 250.0.\n"
     ]
    }
   ],
   "source": [
    "def sum_3(x1,x2,x3):\n",
    "    return x1+x2+x3\n",
    "\n",
    "def multi_2(x1,x2):\n",
    "    return x1*x2\n",
    "\n",
    "choice = input (\"Choose Option 1 to add three numbers or Option 2 to multiply 2 numbers: \")\n",
    "if choice == \"1\":\n",
    "    num1 = float(input(\"Enter first number: \"))\n",
    "    num2 = float(input(\"Enter second number:\"))\n",
    "    num3 = float(input(\"Enter third number: \"))\n",
    "    print (f\"The sum of the three numbers is {sum_3 (num1,num2,num3)}.\")\n",
    "elif choice == \"2\":\n",
    "    num1 = float(input(\"Enter first number: \"))\n",
    "    num2 = float(input(\"Enter second number:\"))\n",
    "    print (f\"The product of the two numbers is {multi_2 (num1,num2)}.\")\n",
    "else:\n",
    "    print (\"Please enter '1' or '2'\")"
   ]
  },
  {
   "cell_type": "markdown",
   "metadata": {},
   "source": [
    "Exercise 5. \n",
    "Write a function to convert a test score to a grade where  \n",
    " - 90 - 100: A\n",
    " - 80 - 89:  B\n",
    " - 70 - 79:  C\n",
    " - 60 - 69:  D\n",
    " - < 60   :  F\n",
    " \n",
    "If a score is not between 0 and 100 then print out an error message. In the program, ask the user for a score and then call your function. "
   ]
  },
  {
   "cell_type": "code",
   "execution_count": 96,
   "metadata": {},
   "outputs": [
    {
     "name": "stdout",
     "output_type": "stream",
     "text": [
      "Enter test grade: 99\n",
      "Your grade is A.\n"
     ]
    }
   ],
   "source": [
    "def convert (x1):\n",
    "    if x1 <= 100 and x1 >= 90:\n",
    "        grade = \"A\"\n",
    "    elif x1 <= 89 and x1 >= 80:\n",
    "        grade = \"B\"\n",
    "    elif x1 <= 79 and x1 >= 70:\n",
    "        grade = \"C\"\n",
    "    elif x1 <= 69 and x1 >= 60:\n",
    "        grade = \"D\"\n",
    "    elif x1 <= 59 and x1 >= 0:\n",
    "        grade = \"F\"\n",
    "    return (grade)\n",
    "        \n",
    "num1 = int(input(\"Enter test grade: \"))\n",
    "if num1 < 0 or num1 > 100:\n",
    "    print (f\"{num1} is an invalid score. Please enter a number between 0 and 100, inclusive.\")\n",
    "else:\n",
    "    print (f\"Your grade is {convert(num1)}.\")\n",
    "        "
   ]
  },
  {
   "cell_type": "markdown",
   "metadata": {},
   "source": [
    "# Exercise 6. Write a program to compute discounts for customers.  \n",
    "- For retail customers, \n",
    "    - if invoice total is greater than \\$100 then discount rate is 10\\%, otherwise no discount \n",
    "\n",
    "- For wholesale customers,\n",
    "    - if invoice total is greater than \\$500 then discount rate is 30\\%, otherwise discount rate is 20\\%\n",
    "    \n",
    "Get the type of customer and the invoice total from the user."
   ]
  },
  {
   "cell_type": "code",
   "execution_count": 1,
   "metadata": {},
   "outputs": [
    {
     "name": "stdout",
     "output_type": "stream",
     "text": [
      "Enter the type of customer(Retail or Wholesale): wholesale\n",
      "Enter invoice total: 560\n",
      "Since you are a wholesale customer and your invoice total is greater than $500, your discount is 30%.\n",
      "Your final invoice is 392.0.\n"
     ]
    }
   ],
   "source": [
    "def compute_discount (ct,it):\n",
    "    if ct.lower() == \"retail\" and it > 100.0:\n",
    "        print (f\"Since you are a {ct} customer and your invoice total is greater than $100, your discount is 10%.\")\n",
    "        it *= .9\n",
    "        print (f\"Your final invoice is {it}.\")\n",
    "    elif ct.lower() == \"wholesale\" and it > 500.0:\n",
    "        print (f\"Since you are a {ct} customer and your invoice total is greater than $500, your discount is 30%.\")\n",
    "        it *= .7\n",
    "        print (f\"Your final invoice is {it}.\")\n",
    "    elif ct.lower() == \"wholesale\" and it <= 500.0:\n",
    "        print (f\"Since you are a {ct} customer and your invoice total is less than or equal to $500, your discount is 20%.\")\n",
    "        it *= .8\n",
    "        print (f\"Your final invoice is {it}.\")\n",
    "    else:\n",
    "        print (\"No discount\")\n",
    "        \n",
    "cust_type = input(\"Enter the type of customer(Retail or Wholesale): \")\n",
    "invoice_total = float(input(\"Enter invoice total: \"))\n",
    "compute_discount(cust_type, invoice_total)\n",
    "\n"
   ]
  },
  {
   "cell_type": "markdown",
   "metadata": {},
   "source": [
    "Exercise 7: Write a function that accepts two parameters (a and b) and returns a result of a/b.  In this function, try to catch any exception error.  Then, write a program to get two numbers from a user, call your function using these two numbers, and print out the result in a friendly format.  All input and print statements must be done in the main program. Repeat the process until user wants to quit the program. "
   ]
  },
  {
   "cell_type": "code",
   "execution_count": 98,
   "metadata": {},
   "outputs": [],
   "source": [
    "import sys\n",
    "\n",
    "def catch_error (a,b):\n",
    "    try:\n",
    "        ret_val = a/b\n",
    "    except:\n",
    "# This print statement is for debugging purposes\n",
    "#        print(\"     ***ERROR: \", sys.exc_info()[0], \"occurred.\")        \n",
    "        ret_val = False\n",
    "\n",
    "    return ret_val\n",
    "\n",
    "\n",
    "\n",
    "        "
   ]
  },
  {
   "cell_type": "code",
   "execution_count": 99,
   "metadata": {},
   "outputs": [
    {
     "name": "stdout",
     "output_type": "stream",
     "text": [
      "Enter a number: 100\n",
      "Enter a second number: 0\n",
      "   *** Attempt to divide by zero. Please try again ***\n",
      "\n",
      "Do you want to create another table (y/n)? y\n",
      "Enter a number: 100\n",
      "Enter a second number: 1\n",
      "a/b =  100.0\n",
      "\n",
      "Do you want to create another table (y/n)? N\n",
      "Thank you. Please come again.\n"
     ]
    }
   ],
   "source": [
    "choice = \"y\"\n",
    "while (choice.lower() == \"y\"):\n",
    "    num1 = float(input (\"Enter a number: \"))\n",
    "    num2 = float(input (\"Enter a second number: \"))\n",
    "    output = catch_error (num1, num2)\n",
    "\n",
    "    if output == False:\n",
    "         print (\"   *** Attempt to divide by zero. Please try again ***\")\n",
    "    else:\n",
    "        print (\"a/b = \",output)\n",
    "    choice = input(\"\\nDo you want to create another table (y/n)? \")\n",
    "        \n",
    "print (\"Thank you. Please come again.\")"
   ]
  },
  {
   "cell_type": "markdown",
   "metadata": {},
   "source": [
    "Exercise 8: Write a function to generate a multiplication table. Then write a program to ask a user if user wants to generate a  mutiplication table for a random number or provide a number. The program should continue to run until a user wants to quit."
   ]
  },
  {
   "cell_type": "code",
   "execution_count": 100,
   "metadata": {},
   "outputs": [],
   "source": [
    "def table (factor):\n",
    "    print (\"\\n\")\n",
    "    for x1 in range(1, 10):\n",
    "        print(f\"{factor} X {x1} = {factor*x1}\")    \n",
    "\n",
    "# unum = int(input(\"Enter a number: \"))\n",
    "# mult_table(unum)"
   ]
  },
  {
   "cell_type": "code",
   "execution_count": 101,
   "metadata": {},
   "outputs": [
    {
     "name": "stdout",
     "output_type": "stream",
     "text": [
      "Do you want to provide a number (n) to create a multiplication table or use a random number (r)? n\n",
      "Enter number: 10\n",
      "\n",
      "\n",
      "10 X 1 = 10\n",
      "10 X 2 = 20\n",
      "10 X 3 = 30\n",
      "10 X 4 = 40\n",
      "10 X 5 = 50\n",
      "10 X 6 = 60\n",
      "10 X 7 = 70\n",
      "10 X 8 = 80\n",
      "10 X 9 = 90\n",
      "\n",
      "Do you want to create another table (y/n)? y\n",
      "Do you want to provide a number (n) to create a multiplication table or use a random number (r)? r\n",
      "\n",
      "\n",
      "5 X 1 = 5\n",
      "5 X 2 = 10\n",
      "5 X 3 = 15\n",
      "5 X 4 = 20\n",
      "5 X 5 = 25\n",
      "5 X 6 = 30\n",
      "5 X 7 = 35\n",
      "5 X 8 = 40\n",
      "5 X 9 = 45\n",
      "\n",
      "Do you want to create another table (y/n)? N\n",
      "\n",
      "On behalf of the group and myself I hope that we passed the audition!\n"
     ]
    }
   ],
   "source": [
    "import random as randy\n",
    "choice = \"y\"\n",
    "while (choice.lower() == \"y\"):\n",
    "    how = input (\"Do you want to provide a number (n) to create a multiplication table or use a random number (r)? \")\n",
    "    if how.lower() == \"r\":\n",
    "        num1 = randy.randint(1,100)\n",
    "        table(num1)\n",
    "    elif how.lower() == \"n\":\n",
    "        num1 = int(input(\"Enter number: \"))\n",
    "        table(num1)\n",
    "    else:\n",
    "        print (\"\\n*** Invalid entry ***\")\n",
    "\n",
    "    choice = input(\"\\nDo you want to create another table (y/n)? \")\n",
    "    \n",
    "print (\"\\nOn behalf of the group and myself I hope that we passed the audition!\")"
   ]
  },
  {
   "cell_type": "markdown",
   "metadata": {},
   "source": [
    "Exercise 9: Write a function to draw a right-triangle using a number as a character.Then, write a program to generate a random number between 1 and 9, call your function with that random number.  The output should look something like this:\n",
    "\n",
    "        base: 5\n",
    "        5\n",
    "        55\n",
    "        555\n",
    "        5555\n",
    "        55555\n",
    "\n",
    "\n",
    "        base: 8\n",
    "        8\n",
    "        88\n",
    "        888\n",
    "        8888\n",
    "        88888\n",
    "        888888\n",
    "        8888888\n",
    "        88888888"
   ]
  },
  {
   "cell_type": "code",
   "execution_count": 102,
   "metadata": {},
   "outputs": [],
   "source": [
    "def rt_triang (int1):\n",
    "    print (\"base: \",int1)\n",
    "    for x1 in range (1,int1+1):\n",
    "        print (f\"{int1}\"*x1)"
   ]
  },
  {
   "cell_type": "code",
   "execution_count": 106,
   "metadata": {},
   "outputs": [
    {
     "name": "stdout",
     "output_type": "stream",
     "text": [
      "base:  9\n",
      "9\n",
      "99\n",
      "999\n",
      "9999\n",
      "99999\n",
      "999999\n",
      "9999999\n",
      "99999999\n",
      "999999999\n"
     ]
    }
   ],
   "source": [
    "import random as randy\n",
    "base = randy.randint(1,9)\n",
    "rt_triang(base)"
   ]
  },
  {
   "cell_type": "markdown",
   "metadata": {},
   "source": [
    "Exercise 10: Modify function from exercise 9 to show output like this:\n",
    "\n",
    "        base: 5\n",
    "            5\n",
    "           55\n",
    "          555\n",
    "         5555 \n",
    "        55555\n",
    "        \n",
    "        base: 8\n",
    "               8\n",
    "              88\n",
    "             888\n",
    "            8888\n",
    "           88888\n",
    "          888888\n",
    "         8888888\n",
    "        88888888 "
   ]
  },
  {
   "cell_type": "code",
   "execution_count": 24,
   "metadata": {},
   "outputs": [],
   "source": [
    "# Original version\n",
    "\n",
    "# def rt_triang (int1):\n",
    "#    print (\"base: \",int1)\n",
    "#    str_out=\" \"\n",
    "#    for x1 in range (1,int1+1):\n",
    "#        str_out += str(int1)\n",
    "#        str_rout = str_out.rjust(int1+1)\n",
    "#        print (str_rout)\n",
    "\n",
    "# Revised version\n",
    "\n",
    "def rt_triang (int1):\n",
    "        print (\"base: \",int1)\n",
    "        str_out=\" \"\n",
    "        for x1 in range (1,int1+1):\n",
    "            str_out +=str(int1)\n",
    "            print ((int1-x1)*\" \" + str_out)\n"
   ]
  },
  {
   "cell_type": "code",
   "execution_count": 28,
   "metadata": {},
   "outputs": [
    {
     "name": "stdout",
     "output_type": "stream",
     "text": [
      "base:  8\n",
      "        8\n",
      "       88\n",
      "      888\n",
      "     8888\n",
      "    88888\n",
      "   888888\n",
      "  8888888\n",
      " 88888888\n"
     ]
    }
   ],
   "source": [
    "import random as randy\n",
    "base = randy.randint(1,9)\n",
    "rt_triang(base)"
   ]
  },
  {
   "cell_type": "code",
   "execution_count": null,
   "metadata": {},
   "outputs": [],
   "source": []
  },
  {
   "cell_type": "code",
   "execution_count": null,
   "metadata": {},
   "outputs": [],
   "source": []
  }
 ],
 "metadata": {
  "kernelspec": {
   "display_name": "Python 3",
   "language": "python",
   "name": "python3"
  },
  "language_info": {
   "codemirror_mode": {
    "name": "ipython",
    "version": 3
   },
   "file_extension": ".py",
   "mimetype": "text/x-python",
   "name": "python",
   "nbconvert_exporter": "python",
   "pygments_lexer": "ipython3",
   "version": "3.8.8"
  }
 },
 "nbformat": 4,
 "nbformat_minor": 4
}
